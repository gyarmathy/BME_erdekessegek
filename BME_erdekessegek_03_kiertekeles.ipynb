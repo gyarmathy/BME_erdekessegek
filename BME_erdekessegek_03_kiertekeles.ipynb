{
 "cells": [
  {
   "cell_type": "markdown",
   "metadata": {},
   "source": [
    "# Érdekességek a matematika alkalmazásaiból"
   ]
  },
  {
   "cell_type": "markdown",
   "metadata": {},
   "source": [
    "## Klasszifikáció kiértékelése\n",
    "\n",
    "*Gyarmathy Zsófia & Varasdi Károly*"
   ]
  },
  {
   "cell_type": "markdown",
   "metadata": {},
   "source": [
    "### Jupyter notebook és Python környezet felállítás, csomagimportok"
   ]
  },
  {
   "cell_type": "code",
   "execution_count": 2,
   "metadata": {},
   "outputs": [],
   "source": [
    "## Képmegjelenítéshez a notebookban:\n",
    "from IPython.core.display import Image, display #használat: display(Image(filename='image.png'))"
   ]
  },
  {
   "cell_type": "code",
   "execution_count": 47,
   "metadata": {},
   "outputs": [],
   "source": [
    "import numpy as np"
   ]
  },
  {
   "cell_type": "code",
   "execution_count": 69,
   "metadata": {},
   "outputs": [],
   "source": [
    "from sklearn.metrics import confusion_matrix\n",
    "## osszekeveresi_matrix = confusion_matrix(actual, predicted)\n",
    "## tn, fp, fn, tp = confusion_matrix(actual, predicted).ravel()\n",
    "\n",
    "from sklearn.metrics import accuracy_score \n",
    "## acc = accuracy_score(actual, predicted)\n",
    "from sklearn.metrics import precision_score\n",
    "from sklearn.metrics import recall_score\n",
    "from sklearn.metrics import f1_score\n",
    "from sklearn.metrics import classification_report \n",
    "## klasszifikacios_kiertekeles = classification_report(actual, predicted) "
   ]
  },
  {
   "cell_type": "markdown",
   "metadata": {},
   "source": [
    "### Összekeverési mátrix (confusion matrix)"
   ]
  },
  {
   "cell_type": "markdown",
   "metadata": {},
   "source": [
    "Kezdetnek tekintsük a bináris kategorizáció esetét."
   ]
  },
  {
   "cell_type": "code",
   "execution_count": 29,
   "metadata": {},
   "outputs": [
    {
     "data": {
      "image/png": "[encoded data removed]",
      "text/plain": [
       "<IPython.core.display.Image object>"
      ]
     },
     "metadata": {
      "image/png": {
       "width": 600
      }
     },
     "output_type": "display_data"
    },
    {
     "name": "stdout",
     "output_type": "stream",
     "text": [
      "Forrás: https://towardsdatascience.com/understanding-data-science-classification-metrics-in-scikit-learn-in-python-3bc336865019\n"
     ]
    }
   ],
   "source": [
    "display(Image('abrak/confmatrix.png', width=600))\n",
    "print(\"Forrás: https://towardsdatascience.com/understanding-data-science-classification-metrics-in-scikit-learn-in-python-3bc336865019\")"
   ]
  },
  {
   "cell_type": "markdown",
   "metadata": {},
   "source": [
    "* **TP (true positives, valódi pozitı́vok)**: azon adatpontok száma, amelyeket a rendszer helyesen pozitívnak ítélt.\n",
    "* **TN (true negatives, valódi negatívok)**: azon adatpontok száma, amelyeket a rendszer helyesen negatívnak ítélt.\n",
    "* **FP (false positives, téves pozitı́vok)** (= 1. típusú hiba): azon adatpontok száma, amelyeket a rendszer tévesen pozitívnak ítélt.\n",
    "* **FN (false negatives, téves negatı́vok)** (= 2. típusú hiba): azon adatpontok száma, amelyeket a rendszer tévesen negatívnak ítélt.\n"
   ]
  },
  {
   "cell_type": "markdown",
   "metadata": {},
   "source": [
    "#### Mérőszámok"
   ]
  },
  {
   "cell_type": "markdown",
   "metadata": {},
   "source": [
    "##### Korrektség (accuracy, AC)\n",
    "Az *accuracy* azt méri, hogy az összes esetből hányban történt a klasszifikáció a helyes módon:\n",
    "\n",
    "$$\\mathsf{accuracy} = \\frac{TP + TN}{P + N} = \\frac{TP + TN}{TP + TN + FP + FN}$$"
   ]
  },
  {
   "cell_type": "code",
   "execution_count": 42,
   "metadata": {},
   "outputs": [
    {
     "name": "stdout",
     "output_type": "stream",
     "text": [
      "predikció: [1, 0, 0, 0, 1, 1, 1]\n",
      "tényleges: [1, 1, 0, 0, 1, 0, 1]\n",
      "eltalálta: [True, False, True, True, True, False, True]\n"
     ]
    }
   ],
   "source": [
    "predikcio = [1, 0, 0, 0, 1, 1, 1]\n",
    "tenyleges = [1, 1, 0, 0, 1, 0, 1]\n",
    "eltalalta = [predikcio[i] == tenyleges[i] for i in range(len(predikcio))]\n",
    "\n",
    "print(\"predikció:\", predikcio)\n",
    "print(\"tényleges:\", tenyleges)\n",
    "print(\"eltalálta:\", eltalalta)"
   ]
  },
  {
   "cell_type": "code",
   "execution_count": 36,
   "metadata": {},
   "outputs": [
    {
     "name": "stdout",
     "output_type": "stream",
     "text": [
      "Confusion matrix:\n",
      "   0 1\n",
      "   ---\n",
      "0: 2 1\n",
      "1: 1 3\n"
     ]
    }
   ],
   "source": [
    "osszekeveresi_matrix = confusion_matrix(tenyleges, predikcio)\n",
    "tn, fp, fn, tp = osszekeveresi_matrix.ravel()\n",
    "print(\"Confusion matrix:\")\n",
    "print(\"   0\", \"1\")\n",
    "print(\"   ---\")\n",
    "i = 0\n",
    "for row in osszekeveresi_matrix:\n",
    "    print(str(i) + \":\", row[0], row[1])\n",
    "    i += 1"
   ]
  },
  {
   "cell_type": "markdown",
   "metadata": {},
   "source": [
    "Mennyi az accuracy?"
   ]
  },
  {
   "cell_type": "code",
   "execution_count": 44,
   "metadata": {},
   "outputs": [
    {
     "data": {
      "text/plain": [
       "0.7142857142857143"
      ]
     },
     "execution_count": 44,
     "metadata": {},
     "output_type": "execute_result"
    }
   ],
   "source": [
    "acc_manual = eltalalta.count(True) / len(eltalalta)\n",
    "acc_manual"
   ]
  },
  {
   "cell_type": "code",
   "execution_count": 45,
   "metadata": {},
   "outputs": [
    {
     "data": {
      "text/plain": [
       "0.7142857142857143"
      ]
     },
     "execution_count": 45,
     "metadata": {},
     "output_type": "execute_result"
    }
   ],
   "source": [
    "accuracy_score(tenyleges, predikcio)"
   ]
  },
  {
   "cell_type": "markdown",
   "metadata": {},
   "source": [
    "**Elég az accuracy a kiértékeléshez?**"
   ]
  },
  {
   "cell_type": "code",
   "execution_count": 74,
   "metadata": {},
   "outputs": [],
   "source": [
    "egeszseges = np.ones(100000)\n",
    "egeszseges[99000:] = 0"
   ]
  },
  {
   "cell_type": "code",
   "execution_count": 75,
   "metadata": {},
   "outputs": [
    {
     "name": "stdout",
     "output_type": "stream",
     "text": [
      "Egészségesek száma: 99000\n",
      "Betegek száma: 1000\n"
     ]
    }
   ],
   "source": [
    "print(\"Egészségesek száma:\", (egeszseges == 1).sum())\n",
    "print(\"Betegek száma:\", (egeszseges == 0).sum())"
   ]
  },
  {
   "cell_type": "code",
   "execution_count": 78,
   "metadata": {},
   "outputs": [],
   "source": [
    "predikcio = np.ones(100000)"
   ]
  },
  {
   "cell_type": "code",
   "execution_count": 80,
   "metadata": {},
   "outputs": [
    {
     "name": "stdout",
     "output_type": "stream",
     "text": [
      "Confusion matrix a betegség modellre:\n",
      "     0 \t 1\n",
      "     --------------\n",
      "0:   0 \t 1000\n",
      "1:   0 \t 99000\n"
     ]
    }
   ],
   "source": [
    "osszekeveresi_matrix = confusion_matrix(egeszseges, predikcio)\n",
    "tn, fp, fn, tp = osszekeveresi_matrix.ravel()\n",
    "print(\"Confusion matrix a betegség modellre:\")\n",
    "print(\"     0 \\t\", \"1\")\n",
    "print(\"     --------------\")\n",
    "i = 0\n",
    "for row in osszekeveresi_matrix:\n",
    "    print(str(i) + \":  \", row[0], \"\\t\", row[1])\n",
    "    i += 1"
   ]
  },
  {
   "cell_type": "code",
   "execution_count": 85,
   "metadata": {},
   "outputs": [
    {
     "data": {
      "text/plain": [
       "0.99"
      ]
     },
     "execution_count": 85,
     "metadata": {},
     "output_type": "execute_result"
    }
   ],
   "source": [
    "accuracy_score(egeszseges, predikcio)"
   ]
  },
  {
   "cell_type": "markdown",
   "metadata": {},
   "source": [
    "**Az adatpontok 99%-ában helyes eredményt ad a modell.** Elégedettek vagyunk-e?"
   ]
  },
  {
   "cell_type": "code",
   "execution_count": 88,
   "metadata": {},
   "outputs": [
    {
     "data": {
      "text/plain": [
       "0.9949748743718593"
      ]
     },
     "execution_count": 88,
     "metadata": {},
     "output_type": "execute_result"
    }
   ],
   "source": [
    "f1_score(egeszseges, predikcio)"
   ]
  },
  {
   "cell_type": "markdown",
   "metadata": {},
   "source": [
    "##### Pontosság (precison)\n",
    "A *precision* azt mutatja meg, hogy a rendszer által *helyesen* pozitívnak vélt adatpontok mekkora hányadát alkotják a rendszer által pozitı́vnak vélt adatpontok számosságának.\n",
    "\n",
    "$$\\textsf{precision} = \\frac{TP}{TP + FP}$$\n"
   ]
  },
  {
   "cell_type": "markdown",
   "metadata": {},
   "source": [
    "##### Felidézés (recall, sensitivity, true positive rate, TPR) \n",
    "\n",
    "A *recall* az az arány, ami azt mutatja, hogy az összes ténylegesen pozitívnak kategorizálandó adatpont mekkora részét osztályozta a rendszer helyesen pozitı́vnak.\n",
    "\n",
    "$$\\textsf{recall} = \\frac{TP}{P} = \\frac{TP}{TP + FN}$$\n"
   ]
  },
  {
   "cell_type": "markdown",
   "metadata": {},
   "source": [
    "##### F-mérték (F1-score, F-score, F-measure)\n",
    "Az F-mérték egy egységes kombinált érték, a pontosság és a felidézés harmonikus közepe:\n",
    "\n",
    "$$\\mathit{F1} = \\frac{2}{ \\frac{1}{\\textsf{precision}} + \\frac{1}{\\textsf{recall}} } =\n",
    "2 * \\frac{(\\textsf{precision} * \\textsf{recall})}{(\\textsf{precision} + \\textsf{recall})}$$"
   ]
  },
  {
   "cell_type": "code",
   "execution_count": null,
   "metadata": {},
   "outputs": [],
   "source": []
  },
  {
   "cell_type": "markdown",
   "metadata": {},
   "source": [
    "#### Hamis pozitı́vok aránya (false positive rate, FPR)\n",
    "\n",
    "A FPR az az arány, amely megmutatja, hogy a rendszer a valójában negatívnak kategorizálandó adatpontok mekkora részét osztályozta hibásan pozitívnak.\n",
    "\n",
    "$$\\mathit{FPR} = \\frac{FP}{N} = \\frac{FP}{TN + FP}$$\n"
   ]
  },
  {
   "cell_type": "markdown",
   "metadata": {},
   "source": [
    "##### Valódi negatı́vok aránya (specificity, true negative rate, TNR)\n",
    "\n",
    "A TNR a TPR érték \"duálisa\": azt mutatja, hogy azon adatpontok száma, amiket a rendszer helyes negatívnak\n",
    "ítélt, hogy aránylik a ténylegesen negatívak számához.\n",
    "\n",
    "$$\\mathit{TNR} = \\frac{TN}{N} = \\frac{TN}{TN + FP}$$\n"
   ]
  },
  {
   "cell_type": "markdown",
   "metadata": {},
   "source": [
    "#### Téves negatívok aránya (false negative rate, FNR)\n",
    "\n",
    "A FNR az FPR érték \"duálisa\": megmutatja, hogy azon adatpontok száma, amiket a rendszer tévesen negatívnak ítélt hogy aránylik a ténylegesen pozitívak számához.\n",
    "\n",
    "$$\\mathit{FNR} = \\frac{FN}{P} = \\frac{FN}{TP + FN}$$\n"
   ]
  },
  {
   "cell_type": "code",
   "execution_count": null,
   "metadata": {},
   "outputs": [],
   "source": []
  }
 ],
 "metadata": {
  "kernelspec": {
   "display_name": "Python 3",
   "language": "python",
   "name": "python3"
  },
  "language_info": {
   "codemirror_mode": {
    "name": "ipython",
    "version": 3
   },
   "file_extension": ".py",
   "mimetype": "text/x-python",
   "name": "python",
   "nbconvert_exporter": "python",
   "pygments_lexer": "ipython3",
   "version": "3.7.1"
  }
 },
 "nbformat": 4,
 "nbformat_minor": 2
}
