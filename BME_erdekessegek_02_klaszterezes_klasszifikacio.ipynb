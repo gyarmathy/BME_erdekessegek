{
 "cells": [
  {
   "cell_type": "markdown",
   "metadata": {},
   "source": [
    "# Érdekességek a matematika alkalmazásaiból"
   ]
  },
  {
   "cell_type": "markdown",
   "metadata": {},
   "source": [
    "## Klaszterezés és klasszifikáció\n",
    "\n",
    "*Gyarmathy Zsófia & Varasdi Károly*"
   ]
  },
  {
   "cell_type": "markdown",
   "metadata": {},
   "source": [
    "### Jupyter notebook és Python környezet felállítás, csomagimportok"
   ]
  },
  {
   "cell_type": "code",
   "execution_count": 1,
   "metadata": {},
   "outputs": [],
   "source": [
    "## Képmegjelenítéshez a notebookban:\n",
    "from IPython.core.display import Image, display #használat: display(Image(filename='image.png'))"
   ]
  },
  {
   "cell_type": "code",
   "execution_count": 2,
   "metadata": {},
   "outputs": [],
   "source": [
    "## Adatmanipulációhoz\n",
    "import os\n",
    "import zipfile\n",
    "import pandas as pd\n",
    "import numpy as np"
   ]
  },
  {
   "cell_type": "code",
   "execution_count": 3,
   "metadata": {},
   "outputs": [],
   "source": [
    "## Gépi tanuláshoz\n",
    "## előfeldolgozás\n",
    "from sklearn.preprocessing import StandardScaler\n",
    "from sklearn.preprocessing import MinMaxScaler"
   ]
  },
  {
   "cell_type": "markdown",
   "metadata": {},
   "source": [
    "### Felügyelt és felügyelet nélküli tanulás"
   ]
  },
  {
   "cell_type": "markdown",
   "metadata": {},
   "source": [
    "Gépi tanulási paradigmák:\n",
    "> **Felügyelt tanulás (supervised learning):** a tanítóadatokra adottak a bemeneti értékek és a hozzá tartozó kimeneti érték.\n",
    ">\n",
    "> **Felügyelet nélküli tanulás (unsupervised learning):** a rendszer pusztán a bemeneti értékek alapján épít modellt az adatokra."
   ]
  },
  {
   "cell_type": "code",
   "execution_count": 4,
   "metadata": {},
   "outputs": [
    {
     "data": {
      "image/png": "[encoded data removed]",
      "text/plain": [
       "<IPython.core.display.Image object>"
      ]
     },
     "metadata": {
      "image/png": {
       "width": 400
      }
     },
     "output_type": "display_data"
    }
   ],
   "source": [
    "display(Image('abrak/IOmodell.png', width=400))"
   ]
  },
  {
   "cell_type": "markdown",
   "metadata": {},
   "source": [
    "1. **Felügyelt tanulás:** A tanítóadatok adatpontjaihoz bemenet (`x`) és a kívánt **_kimenet_** (`y`) is adott.\n",
    "\n",
    "2. **Felügyelet nélküli tanulás:** A tanítóadatok adatpontjai csak bemeneti (`x`) változókat tartalmaznak."
   ]
  },
  {
   "cell_type": "markdown",
   "metadata": {},
   "source": [
    "### Kategorizációs feladatok"
   ]
  },
  {
   "cell_type": "markdown",
   "metadata": {},
   "source": [
    "#### Felügyelt (klasszifikáció) vs. felügyelet nélküli (klaszterezés)"
   ]
  },
  {
   "cell_type": "markdown",
   "metadata": {},
   "source": [
    "1. **Klasszifikáció (classification):** felügyelt tanulás. Új adatok kategorizációja *előre felállított kategóriákba*, *helyesen kategorizált tanítóadatok alapján*.\n",
    "\n",
    "2. **Klaszterezés (clustering):** felügyelet nélküli tanulás. Adathalmaz *automatikusan*, nem előzetesen felállított kategóriákba sorolása."
   ]
  },
  {
   "cell_type": "markdown",
   "metadata": {},
   "source": [
    "#### Klasszifikációs feladatok a kimenet típusa alapján"
   ]
  },
  {
   "cell_type": "markdown",
   "metadata": {},
   "source": [
    "Klasszifikációs modell bemenete egy adatpontra `x`, kimenete `y`, ahol...\n",
    "\n",
    "* `x` egy **jegyek (bemeneti/független változók) száma** hosszúságú vektor\n",
    "* `y` egy... \n",
    "    * skalár (bináris kategorizáció esetén)\n",
    "    * kategóriák számának megfelelő hosszúságú vektor kettőnél több kategória esetén"
   ]
  },
  {
   "cell_type": "markdown",
   "metadata": {},
   "source": [
    "1. **Bináris (binary)**: igen/nem döntés\n",
    "    \n",
    "    * kimenet: {0, 1} eleme\n",
    "    \n",
    "    \n",
    "2. **Többosztályos (multiclass)**: kettőnél több célosztály, egy adatpont pontosan egy osztályba sorolható (az osztályok kölcsönösen kizárják egymást)\n",
    "\n",
    "    * kimenet: one-hot vektor\n",
    "    \n",
    "\n",
    "3. **Többcímkés (multilabel)**: több célosztály, egy adatpont több célosztályba is tartozhat (az osztályok nem kölcsönösen kizáróak)\n",
    "\n",
    "    * kimenet: bináris vektor\n",
    "    \n",
    "    \n",
    "+ **Regresszió (regression)**: a kimeneti változó nem kategorikus; végtelen számú lehetséges kimenet van (tipikusan valós számokkal modellezve)\n",
    "\n",
    "    * kimenet: valós szám\n",
    "    \n",
    "    "
   ]
  },
  {
   "cell_type": "markdown",
   "metadata": {},
   "source": [
    "Gyakorlat: milyen fajta kategorizáció?\n",
    "\n",
    "- Facebook posztok \"fake news\" szűrése (a hiteltelenek automatikus törlése).\n",
    "\n",
    "- Blogposztok automatikus taggelése a blog létező tagjei alapján.\n",
    "\n",
    "- Emailek besorolása \"munka\", \"személyes\", \"egyéb\" kategóriákba.\n",
    "\n",
    "- Egy hallgató félévi tanulmányi átlagának előrejelzése.\n",
    "\n",
    "- CT-felvételek besorolása beteg/nem beteg kategóriákba.\n",
    "\n",
    "- Fényképeken annotálása a rajta szereplő dolgokkal (kategóriák: ember, kutya, macska, könyv).\n",
    "\n",
    "- Információvisszakeresés (information retrieval): egy dokumentum releváns-e egy adott keresési query szempontjából.\n",
    "\n",
    "- A MOL részvényárfolyamának predikciója előző napi adatok alapján.\n",
    "\n",
    "- Könyvborítók alapján könyvzsánerek meghatározása.\n",
    "\n",
    "- Leletek alapján későbbi szív- és érrendszeri betegség valószínűségének meghatározása.\n",
    "\n",
    "- Macskák osztályozása szín (egy- vagy kétszínű, trikolor) és nem (hím, nőstény) szerint."
   ]
  },
  {
   "cell_type": "markdown",
   "metadata": {},
   "source": [
    "Klasszifikációs modell kimeneti számértéke(i):\n",
    "\n",
    "* Tanítóadatokban 0 vagy 1.\n",
    "* Modell predikciója valós szám 0 és 1 között mint az adott kategória valószínűsége\n",
    "    -> legnagyobb valószínűségű kategória kiválasztása"
   ]
  },
  {
   "cell_type": "markdown",
   "metadata": {},
   "source": [
    "### A kategorizáció folyamata"
   ]
  },
  {
   "cell_type": "markdown",
   "metadata": {},
   "source": [
    "**Kategorizációs algoritmusok:**\n",
    "\n",
    "* **Naiv Bayes**: maximum poszterior valószínűségű (MAP) osztály a látott jegyek alapján\n",
    "    * $p(C_k | x_1,\\dots,x_n) \\sim\n",
    "    p(C_k,x_1,\\dots ,x_n) \n",
    "    = p(C_k)\\cdot p(x_1 | C_{k}) \\cdot p(x_2 | C_k) \\cdot \\dots \\cdot p(x_n | C_{k})$\n",
    "    \n",
    "    * feltételezés: változók egymástól függetlenek\n",
    "\n",
    "* **szomszédok távolsága alapján**: K-means, k-nearest neighbors\n",
    "\n",
    "* SVM, logisztikus regresszió, neurális hálózatok..."
   ]
  },
  {
   "cell_type": "markdown",
   "metadata": {},
   "source": [
    "#### Mi alapján történik a kategorizáció? - Jegyek (feature) kiválasztása.\n",
    "\n",
    "Csoportosítsuk:\n",
    "\n",
    "1. Los Angeles\n",
    "2. egy mexikói kisváros\n",
    "3. Berlin"
   ]
  },
  {
   "cell_type": "markdown",
   "metadata": {},
   "source": [
    "### Klasszifikáció"
   ]
  },
  {
   "cell_type": "markdown",
   "metadata": {},
   "source": [
    "#### K-legközelebbi szomszéd (k nearest neighbors, kNN) klasszifikáció"
   ]
  },
  {
   "cell_type": "markdown",
   "metadata": {},
   "source": [
    "A klasszifikáció a $k$ legközelebbi szomszéd osztálya alapján történik."
   ]
  },
  {
   "cell_type": "code",
   "execution_count": 5,
   "metadata": {},
   "outputs": [
    {
     "data": {
      "image/png": "[encoded data removed]",
      "text/plain": [
       "<IPython.core.display.Image object>"
      ]
     },
     "metadata": {},
     "output_type": "display_data"
    },
    {
     "name": "stdout",
     "output_type": "stream",
     "text": [
      "Forrás: Wikimedia\n"
     ]
    }
   ],
   "source": [
    "#display(Image(url='https://upload.wikimedia.org/wikipedia/commons/thumb/e/e7/KnnClassification.svg/220px-KnnClassification.svg.png'))\n",
    "display(Image('abrak/220px-KnnClassification.svg.png'))\n",
    "print(\"Forrás: Wikimedia\")"
   ]
  },
  {
   "cell_type": "markdown",
   "metadata": {},
   "source": [
    "### Clustering"
   ]
  },
  {
   "cell_type": "markdown",
   "metadata": {},
   "source": [
    "#### K-means clustering"
   ]
  },
  {
   "cell_type": "markdown",
   "metadata": {},
   "source": [
    "A klaszterezés $k$ *kategóriába* történik. Célja: a kategóriákon belüli variancia csökkentése.\n",
    "\n",
    "1. $k$ random \"középpont\" kiválasztása.\n",
    "2. Minden egyéb pont hozzárendelése ahhoz a csoporthoz, amelynek átlagához legközelebb áll.\n",
    "3. A csoportok átlagának update-elése.\n",
    "4. 2+3 iterálása, amíg nem konvergál az algoritmus (hozzárendelések nem változnak)."
   ]
  },
  {
   "cell_type": "markdown",
   "metadata": {},
   "source": [
    "#### DBSCAN klaszterezés"
   ]
  },
  {
   "cell_type": "markdown",
   "metadata": {},
   "source": [
    "* sűrűség-alapú klaszterezés\n",
    "* paraméterek: \n",
    "    * $\\varepsilon$: adott ponttól milyen távolságon belül keres pontokat\n",
    "    * *minPts*: minimálisan hány pont szükséges ahhoz, hogy egy \"sűrű\"-nek minősüljön\n",
    "* pontok besorolása:\n",
    "    * \"core\" pontok: *minPts* szomszédjuk van $\\varepsilon$ távolságon belül\n",
    "    * cluster: \n",
    "        * egymásból max $\\varepsilon$-távú \"core\" pontokon át elérhető \"core\" pontok\n",
    "        * a cluster valamely \"core\" pontjából elérhető nem-\"core\" pontok\n",
    "    * minden más pont (ami nem \"core\", és nincs $\\varepsilon$ távon belül \"core\" pont szomszéd) \"noise\" (zaj).\n",
    "* előny/hátrány: \n",
    "    * $+$ tetszőleges \"alakú\" klaszterek\n",
    "    * $+$ gyakorlatban gyorsabb, mint sok más klaszterező eljárás (pl. hierarchikus)\n",
    "    * $-$ nem determinisztikus (ha vannak nem \"core\"-pontok $\\varepsilon$ távra több cluster \"core\" pontjától)\n",
    "    * $-$ feltételezés: klaszterek sűrűsége hasonló (egy $\\varepsilon$ paraméter van)\n"
   ]
  },
  {
   "cell_type": "markdown",
   "metadata": {},
   "source": [
    "#### Hierarchikus klaszterezés\n",
    "\n",
    "* agglomeratív (bottom-up) / divizív (top-down)\n",
    "* klaszterek távolsága: metrika (-> két pont távolsága) és *linkage* függvény (-> két ponthalmaz távolsága) alapján"
   ]
  },
  {
   "cell_type": "markdown",
   "metadata": {},
   "source": [
    "### Távolságmértékek"
   ]
  },
  {
   "cell_type": "markdown",
   "metadata": {},
   "source": [
    "* $n$ darab független (bemeneti) változó által leírt adatok: vektorok $n$-dimenziós térben.\n",
    "\n",
    "* $a$ és $b$ adatpont közelsége/távolsága mint $\\vec{a}$ és $\\vec{b}$ vektorok távolsága."
   ]
  },
  {
   "cell_type": "markdown",
   "metadata": {},
   "source": [
    "#### Távolság metrikák\n",
    "\n",
    "- Nemnegatív: \n",
    "    $$d(a,b) \\geq 0$$\n",
    "\n",
    "- Háromszög egyenlőtlenség: \n",
    "    $$d(a,c) \\leq d(a, b) + d(b, c)$$\n",
    "\n",
    "- Szimmetria: \n",
    "    $$d(a,b) = d(b, a)$$\n",
    "\n",
    "- Nulla távolság azonosság: \n",
    "    $$d(a,b) = 0 \\Leftrightarrow a = b$$\n",
    "\n",
    "Legtöbbször használt távolságok:\n",
    "\n",
    "* **Euklideszi távolság**: $$d(\\vec{a}, \\vec{b}) = |\\vec{a} - \\vec{b}| = \\sqrt{\\sum_{i=1}^{n}(a_{i} - b_{i})^2}$$\n",
    "\n",
    "* **Manhattan távolság**: $$d(\\vec{a}, \\vec{b}) = \\sum_{i=1}^{n}|a_{i} - b_{i}|$$\n",
    "    \n",
    "* Általánosításuk a **Minkowski-távolság**: $$d(\\vec{a}, \\vec{b}) = \\Big(\\sum_{i=1}^{n}|a_{i} - b_{i}|^{p}\\Big)^{1/p}$$\n",
    "        \n",
    "Probléma: **magas dimenzionalitás átka**."
   ]
  },
  {
   "cell_type": "markdown",
   "metadata": {},
   "source": [
    "#### Koszinus hasonlósági mérték (cosine similarity): \n",
    "\n",
    "$$\\cos(\\theta )= \\frac {\\vec{a} \\cdot \\vec{b}} {|\\vec{a}| |\\vec{b}|}$$\n",
    "\n",
    "* hasznos ritka adatoknál\n",
    "* ha a vektorok iránya fontos, a nagysága nem (pl. dokumentumkategorizáció)\n",
    "* ügyeljünk: hasonlóság, nem különbözőség\n",
    "* nem távolságmetrika (feladat: a négy feltételből melyik (nem) teljesül?)\n"
   ]
  },
  {
   "cell_type": "markdown",
   "metadata": {},
   "source": [
    "#### Változóértékek normalizálása:"
   ]
  },
  {
   "cell_type": "code",
   "execution_count": 6,
   "metadata": {},
   "outputs": [],
   "source": [
    "def distance(x, y):\n",
    "    return np.sqrt(sum((x-y)**2))"
   ]
  },
  {
   "cell_type": "markdown",
   "metadata": {},
   "source": [
    "Egy példa (forrás: Joel Grus: Data Science From Scratch)"
   ]
  },
  {
   "cell_type": "code",
   "execution_count": 7,
   "metadata": {},
   "outputs": [
    {
     "data": {
      "text/html": [
       "<div>\n",
       "<style scoped>\n",
       "    .dataframe tbody tr th:only-of-type {\n",
       "        vertical-align: middle;\n",
       "    }\n",
       "\n",
       "    .dataframe tbody tr th {\n",
       "        vertical-align: top;\n",
       "    }\n",
       "\n",
       "    .dataframe thead th {\n",
       "        text-align: right;\n",
       "    }\n",
       "</style>\n",
       "<table border=\"1\" class=\"dataframe\">\n",
       "  <thead>\n",
       "    <tr style=\"text-align: right;\">\n",
       "      <th></th>\n",
       "      <th>magassag_in</th>\n",
       "      <th>magassag_cm</th>\n",
       "      <th>suly_font</th>\n",
       "    </tr>\n",
       "  </thead>\n",
       "  <tbody>\n",
       "    <tr>\n",
       "      <th>A</th>\n",
       "      <td>63</td>\n",
       "      <td>160.0</td>\n",
       "      <td>150</td>\n",
       "    </tr>\n",
       "    <tr>\n",
       "      <th>B</th>\n",
       "      <td>67</td>\n",
       "      <td>170.2</td>\n",
       "      <td>160</td>\n",
       "    </tr>\n",
       "    <tr>\n",
       "      <th>C</th>\n",
       "      <td>70</td>\n",
       "      <td>177.8</td>\n",
       "      <td>171</td>\n",
       "    </tr>\n",
       "  </tbody>\n",
       "</table>\n",
       "</div>"
      ],
      "text/plain": [
       "   magassag_in  magassag_cm  suly_font\n",
       "A           63        160.0        150\n",
       "B           67        170.2        160\n",
       "C           70        177.8        171"
      ]
     },
     "execution_count": 7,
     "metadata": {},
     "output_type": "execute_result"
    }
   ],
   "source": [
    "df = pd.DataFrame([[63,160,150],\n",
    "                    [67,170.2,160],\n",
    "                    [70,177.8,171]], \\\n",
    "                  columns=[\"magassag_in\", \"magassag_cm\", \"suly_font\"], index=[\"A\", \"B\", \"C\"])\n",
    "df\n"
   ]
  },
  {
   "cell_type": "code",
   "execution_count": 8,
   "metadata": {},
   "outputs": [
    {
     "name": "stdout",
     "output_type": "stream",
     "text": [
      "Súly fontban, magasság inch-ben:\n",
      "B és A távolsága: 10.770329614269007\n",
      "B és C távolsága: 11.40175425099138\n"
     ]
    }
   ],
   "source": [
    "print(\"Súly fontban, magasság inch-ben:\")\n",
    "a, b, c = [df.iloc[i, [0,2]].values for i in range(3)]\n",
    "print(\"B és A távolsága:\", distance(a, b))\n",
    "print(\"B és C távolsága:\", distance(c, b))"
   ]
  },
  {
   "cell_type": "code",
   "execution_count": 9,
   "metadata": {},
   "outputs": [
    {
     "name": "stdout",
     "output_type": "stream",
     "text": [
      "Súly fontban, magasság cm-ben:\n",
      "B és A távolsága: 14.284257068535268\n",
      "B és C távolsága: 13.370115930686627\n"
     ]
    }
   ],
   "source": [
    "print(\"Súly fontban, magasság cm-ben:\")\n",
    "a, b, c = [df.iloc[i, 1:3].values for i in range(3)]\n",
    "print(\"B és A távolsága:\", distance(a, b))\n",
    "print(\"B és C távolsága:\", distance(c, b))"
   ]
  },
  {
   "cell_type": "markdown",
   "metadata": {},
   "source": [
    "B szomszédja egyszer A, egyszer C, ugyanazon magasságra! $\\Rightarrow$ **Adatok normalizálása**, tipikusan:\n",
    "\n",
    "* z-értékre: $z = \\frac{(x - \\mu)}{\\sigma}$, vagy\n",
    "* $[0,1]$ intervallumra"
   ]
  },
  {
   "cell_type": "code",
   "execution_count": 10,
   "metadata": {},
   "outputs": [
    {
     "data": {
      "text/html": [
       "<div>\n",
       "<style scoped>\n",
       "    .dataframe tbody tr th:only-of-type {\n",
       "        vertical-align: middle;\n",
       "    }\n",
       "\n",
       "    .dataframe tbody tr th {\n",
       "        vertical-align: top;\n",
       "    }\n",
       "\n",
       "    .dataframe thead th {\n",
       "        text-align: right;\n",
       "    }\n",
       "</style>\n",
       "<table border=\"1\" class=\"dataframe\">\n",
       "  <thead>\n",
       "    <tr style=\"text-align: right;\">\n",
       "      <th></th>\n",
       "      <th>magassag_in</th>\n",
       "      <th>magassag_cm</th>\n",
       "      <th>suly_font</th>\n",
       "    </tr>\n",
       "  </thead>\n",
       "  <tbody>\n",
       "    <tr>\n",
       "      <th>0</th>\n",
       "      <td>-1.278724</td>\n",
       "      <td>-1.279834</td>\n",
       "      <td>-1.204849</td>\n",
       "    </tr>\n",
       "    <tr>\n",
       "      <th>1</th>\n",
       "      <td>0.116248</td>\n",
       "      <td>0.118842</td>\n",
       "      <td>-0.038866</td>\n",
       "    </tr>\n",
       "    <tr>\n",
       "      <th>2</th>\n",
       "      <td>1.162476</td>\n",
       "      <td>1.160992</td>\n",
       "      <td>1.243715</td>\n",
       "    </tr>\n",
       "  </tbody>\n",
       "</table>\n",
       "</div>"
      ],
      "text/plain": [
       "   magassag_in  magassag_cm  suly_font\n",
       "0    -1.278724    -1.279834  -1.204849\n",
       "1     0.116248     0.118842  -0.038866\n",
       "2     1.162476     1.160992   1.243715"
      ]
     },
     "execution_count": 10,
     "metadata": {},
     "output_type": "execute_result"
    }
   ],
   "source": [
    "zvals = StandardScaler().fit_transform(df.values)\n",
    "pd.DataFrame(zvals, columns=df.columns)"
   ]
  },
  {
   "cell_type": "code",
   "execution_count": 11,
   "metadata": {},
   "outputs": [
    {
     "data": {
      "text/html": [
       "<div>\n",
       "<style scoped>\n",
       "    .dataframe tbody tr th:only-of-type {\n",
       "        vertical-align: middle;\n",
       "    }\n",
       "\n",
       "    .dataframe tbody tr th {\n",
       "        vertical-align: top;\n",
       "    }\n",
       "\n",
       "    .dataframe thead th {\n",
       "        text-align: right;\n",
       "    }\n",
       "</style>\n",
       "<table border=\"1\" class=\"dataframe\">\n",
       "  <thead>\n",
       "    <tr style=\"text-align: right;\">\n",
       "      <th></th>\n",
       "      <th>magassag_in</th>\n",
       "      <th>magassag_cm</th>\n",
       "      <th>suly_font</th>\n",
       "    </tr>\n",
       "  </thead>\n",
       "  <tbody>\n",
       "    <tr>\n",
       "      <th>0</th>\n",
       "      <td>0.000000</td>\n",
       "      <td>0.000000</td>\n",
       "      <td>0.00000</td>\n",
       "    </tr>\n",
       "    <tr>\n",
       "      <th>1</th>\n",
       "      <td>0.571429</td>\n",
       "      <td>0.573034</td>\n",
       "      <td>0.47619</td>\n",
       "    </tr>\n",
       "    <tr>\n",
       "      <th>2</th>\n",
       "      <td>1.000000</td>\n",
       "      <td>1.000000</td>\n",
       "      <td>1.00000</td>\n",
       "    </tr>\n",
       "  </tbody>\n",
       "</table>\n",
       "</div>"
      ],
      "text/plain": [
       "   magassag_in  magassag_cm  suly_font\n",
       "0     0.000000     0.000000    0.00000\n",
       "1     0.571429     0.573034    0.47619\n",
       "2     1.000000     1.000000    1.00000"
      ]
     },
     "execution_count": 11,
     "metadata": {},
     "output_type": "execute_result"
    }
   ],
   "source": [
    "scaledvals = MinMaxScaler().fit_transform(df.values)\n",
    "pd.DataFrame(scaledvals, columns=df.columns)"
   ]
  },
  {
   "cell_type": "code",
   "execution_count": null,
   "metadata": {},
   "outputs": [],
   "source": []
  }
 ],
 "metadata": {
  "kernelspec": {
   "display_name": "Python 3",
   "language": "python",
   "name": "python3"
  },
  "language_info": {
   "codemirror_mode": {
    "name": "ipython",
    "version": 3
   },
   "file_extension": ".py",
   "mimetype": "text/x-python",
   "name": "python",
   "nbconvert_exporter": "python",
   "pygments_lexer": "ipython3",
   "version": "3.6.8"
  }
 },
 "nbformat": 4,
 "nbformat_minor": 2
}
